{
 "cells": [
  {
   "cell_type": "markdown",
   "id": "4df52bb6",
   "metadata": {},
   "source": [
    "# Zero Shot Classification\n",
    "> This shows how to use both zero shot classification and answer questions referring to data from a linkedin dataset"
   ]
  },
  {
   "cell_type": "code",
   "execution_count": null,
   "id": "d4f71087",
   "metadata": {},
   "outputs": [],
   "source": [
    "#| default_exp zeroshot"
   ]
  },
  {
   "cell_type": "code",
   "execution_count": null,
   "id": "a5b2c0f5",
   "metadata": {},
   "outputs": [],
   "source": [
    "#| hide\n",
    "#!pip install transformers"
   ]
  },
  {
   "cell_type": "code",
   "execution_count": null,
   "id": "56c3e61f",
   "metadata": {},
   "outputs": [
    {
     "name": "stdout",
     "output_type": "stream",
     "text": [
      "Requirement already satisfied: plotly in /opt/conda/lib/python3.7/site-packages (5.11.0)\r\n",
      "Requirement already satisfied: tenacity>=6.2.0 in /opt/conda/lib/python3.7/site-packages (from plotly) (8.1.0)\r\n"
     ]
    }
   ],
   "source": [
    "#| hide\n",
    "!pip install plotly"
   ]
  },
  {
   "cell_type": "markdown",
   "id": "38f606df",
   "metadata": {},
   "source": [
    "#### These are the requirements to do this NLP "
   ]
  },
  {
   "cell_type": "code",
   "execution_count": null,
   "id": "9daa1ab5",
   "metadata": {},
   "outputs": [],
   "source": [
    "from transformers import AutoTokenizer, AutoModelForQuestionAnswering\n",
    "from transformers import pipeline\n",
    "from fastai.tabular.all import *\n",
    "import plotly.express as px"
   ]
  },
  {
   "cell_type": "markdown",
   "id": "7c3849f2",
   "metadata": {},
   "source": [
    "## Create a classifier to run \"zero-shot\" classification"
   ]
  },
  {
   "cell_type": "code",
   "execution_count": null,
   "id": "a12b308b",
   "metadata": {},
   "outputs": [
    {
     "name": "stderr",
     "output_type": "stream",
     "text": [
      "No model was supplied, defaulted to facebook/bart-large-mnli (https://huggingface.co/facebook/bart-large-mnli)\n"
     ]
    },
    {
     "data": {
      "application/vnd.jupyter.widget-view+json": {
       "model_id": "666db771c1e94f598a59c7d56e32d22f",
       "version_major": 2,
       "version_minor": 0
      },
      "text/plain": [
       "Downloading:   0%|          | 0.00/1.13k [00:00<?, ?B/s]"
      ]
     },
     "metadata": {},
     "output_type": "display_data"
    },
    {
     "data": {
      "application/vnd.jupyter.widget-view+json": {
       "model_id": "d11ddad2c135456289f91a5e01359761",
       "version_major": 2,
       "version_minor": 0
      },
      "text/plain": [
       "Downloading:   0%|          | 0.00/1.52G [00:00<?, ?B/s]"
      ]
     },
     "metadata": {},
     "output_type": "display_data"
    },
    {
     "data": {
      "application/vnd.jupyter.widget-view+json": {
       "model_id": "eec2a8faed8e467b8647f7bdc22a0cd6",
       "version_major": 2,
       "version_minor": 0
      },
      "text/plain": [
       "Downloading:   0%|          | 0.00/878k [00:00<?, ?B/s]"
      ]
     },
     "metadata": {},
     "output_type": "display_data"
    },
    {
     "data": {
      "application/vnd.jupyter.widget-view+json": {
       "model_id": "ff6bb5f6e8e94f53a157f4fc5999da39",
       "version_major": 2,
       "version_minor": 0
      },
      "text/plain": [
       "Downloading:   0%|          | 0.00/446k [00:00<?, ?B/s]"
      ]
     },
     "metadata": {},
     "output_type": "display_data"
    },
    {
     "data": {
      "application/vnd.jupyter.widget-view+json": {
       "model_id": "a764034b77f94024a0152d3697f591d5",
       "version_major": 2,
       "version_minor": 0
      },
      "text/plain": [
       "Downloading:   0%|          | 0.00/26.0 [00:00<?, ?B/s]"
      ]
     },
     "metadata": {},
     "output_type": "display_data"
    }
   ],
   "source": [
    "classifier = pipeline(\"zero-shot-classification\")"
   ]
  },
  {
   "cell_type": "code",
   "execution_count": null,
   "id": "7b5847eb",
   "metadata": {},
   "outputs": [
    {
     "name": "stdout",
     "output_type": "stream",
     "text": [
      "{'sequence': 'Who are you voting for in 2022?', 'labels': ['politics', 'economics', 'public health'], 'scores': [0.9570426940917969, 0.023699436336755753, 0.019257841631770134]}\n"
     ]
    }
   ],
   "source": [
    "\n",
    "sequence = \"Who are you voting for in 2022?\"\n",
    "candidate_labels = [\"politics\", \"public health\", \"economics\"]\n",
    "\n",
    "print(classifier(sequence, candidate_labels))"
   ]
  },
  {
   "cell_type": "code",
   "execution_count": null,
   "id": "1c6d0b23",
   "metadata": {},
   "outputs": [],
   "source": [
    "\n",
    "path = Path('..')\n",
    "df = pd.read_csv(path/'linkedin.csv')"
   ]
  },
  {
   "cell_type": "code",
   "execution_count": null,
   "id": "8007332b",
   "metadata": {},
   "outputs": [
    {
     "data": {
      "text/html": [
       "<div>\n",
       "<style scoped>\n",
       "    .dataframe tbody tr th:only-of-type {\n",
       "        vertical-align: middle;\n",
       "    }\n",
       "\n",
       "    .dataframe tbody tr th {\n",
       "        vertical-align: top;\n",
       "    }\n",
       "\n",
       "    .dataframe thead th {\n",
       "        text-align: right;\n",
       "    }\n",
       "</style>\n",
       "<table border=\"1\" class=\"dataframe\">\n",
       "  <thead>\n",
       "    <tr style=\"text-align: right;\">\n",
       "      <th></th>\n",
       "      <th>index</th>\n",
       "      <th>category</th>\n",
       "      <th>linkedin</th>\n",
       "      <th>profile_picture</th>\n",
       "      <th>description</th>\n",
       "      <th>Experience</th>\n",
       "      <th>Name</th>\n",
       "      <th>position</th>\n",
       "      <th>location</th>\n",
       "      <th>skills</th>\n",
       "      <th>clean_skills</th>\n",
       "    </tr>\n",
       "  </thead>\n",
       "  <tbody>\n",
       "    <tr>\n",
       "      <th>0</th>\n",
       "      <td>1</td>\n",
       "      <td>HR</td>\n",
       "      <td>https://in.linkedin.com/in/sameer-wadhawan-b55134a</td>\n",
       "      <td>https://media-exp1.licdn.com/dms/image/C5603AQE0oZw7zBBIpw/profile-displayphoto-shrink_200_200/0?e=1589414400&amp;v=beta&amp;t=DH_9q06YCcRb-GcSwvnrHfZYsuNiP45i41RgygbAtSQ</td>\n",
       "      <td>An experienced HR professional,  HR mentor and Coach , Talent advisory and HR strategist... see more</td>\n",
       "      <td>Senior Vice President &amp; Head of HRCompany NameSamsung Electronics India LimitedDates EmployedJan 2018 – PresentEmployment Duration2 yrs 3 mosLocationGurgaon, Haryana, IndiaVice President Franchise capability building and business transformationCompany NameCoca-Cola India and South West AsiaDates EmployedJan 2017 – Dec 2017Employment Duration12 mosLocationGurgaon, Haryana, IndiaWorked with 17 Franchisees in India and SW asia markets on developing capabilities &amp; talent and make them future ready .Vice President - Human Resources &amp; Services , India &amp; South West AsiaCompany NameCoca Cola India...</td>\n",
       "      <td>Sameer Wadhawan</td>\n",
       "      <td>Senior Vice President and Head of HR- Samsung Electronics India Limited</td>\n",
       "      <td>Gurgaon, Haryana, India</td>\n",
       "      <td>['\\nPerformance Management\\n', '\\nHuman Resources\\n', '\\nTalent Management\\n', '\\nTalent Acquisition\\n', '\\nRecruiting\\n', '\\nStrategy\\n', '\\nChange Management\\n', '\\nDeferred Compensation\\n', '\\nStrategic HR\\n', '\\nHR Policies\\n', '\\nCompensation &amp; Benefits\\n', '\\nBusiness Strategy\\n', '\\nStrategic Human Resource Planning\\n', '\\nSuccession Planning\\n', '\\nVendor Management\\n', '\\nWorkforce Planning\\n', '\\nHRIS\\n', '\\nPersonnel Management\\n', '\\nEmployee Relations\\n', '\\nManagement\\n', '\\nEmployee Engagement\\n', '\\nLeadership\\n', '\\nTeam Management\\n', '\\nConflict Management\\n', '\\nPeople ...</td>\n",
       "      <td>['Performance Management', 'Human Resources', 'Talent Management', 'Talent Acquisition', 'Recruiting', 'Strategy', 'Change Management', 'Deferred Compensation', 'Strategic HR', 'HR Policies', 'Compensation &amp; Benefits', 'Business Strategy', 'Strategic Human Resource Planning', 'Succession Planning', 'Vendor Management', 'Workforce Planning', 'HRIS', 'Personnel Management', 'Employee Relations', 'Management', 'Employee Engagement', 'Leadership', 'Team Management', 'Conflict Management', 'People Skills', 'Performance Appraisal', 'Organizational Structure', 'Certified career coach', 'Certified...</td>\n",
       "    </tr>\n",
       "  </tbody>\n",
       "</table>\n",
       "</div>"
      ],
      "text/plain": [
       "   index category                                            linkedin  \\\n",
       "0      1       HR  https://in.linkedin.com/in/sameer-wadhawan-b55134a   \n",
       "\n",
       "                                                                                                                                                      profile_picture  \\\n",
       "0  https://media-exp1.licdn.com/dms/image/C5603AQE0oZw7zBBIpw/profile-displayphoto-shrink_200_200/0?e=1589414400&v=beta&t=DH_9q06YCcRb-GcSwvnrHfZYsuNiP45i41RgygbAtSQ   \n",
       "\n",
       "                                                                                            description  \\\n",
       "0  An experienced HR professional,  HR mentor and Coach , Talent advisory and HR strategist... see more   \n",
       "\n",
       "                                                                                                                                                                                                                                                                                                                                                                                                                                                                                                                                                                                                                Experience  \\\n",
       "0  Senior Vice President & Head of HRCompany NameSamsung Electronics India LimitedDates EmployedJan 2018 – PresentEmployment Duration2 yrs 3 mosLocationGurgaon, Haryana, IndiaVice President Franchise capability building and business transformationCompany NameCoca-Cola India and South West AsiaDates EmployedJan 2017 – Dec 2017Employment Duration12 mosLocationGurgaon, Haryana, IndiaWorked with 17 Franchisees in India and SW asia markets on developing capabilities & talent and make them future ready .Vice President - Human Resources & Services , India & South West AsiaCompany NameCoca Cola India...   \n",
       "\n",
       "              Name  \\\n",
       "0  Sameer Wadhawan   \n",
       "\n",
       "                                                                  position  \\\n",
       "0  Senior Vice President and Head of HR- Samsung Electronics India Limited   \n",
       "\n",
       "                  location  \\\n",
       "0  Gurgaon, Haryana, India   \n",
       "\n",
       "                                                                                                                                                                                                                                                                                                                                                                                                                                                                                                                                                                                                                    skills  \\\n",
       "0  ['\\nPerformance Management\\n', '\\nHuman Resources\\n', '\\nTalent Management\\n', '\\nTalent Acquisition\\n', '\\nRecruiting\\n', '\\nStrategy\\n', '\\nChange Management\\n', '\\nDeferred Compensation\\n', '\\nStrategic HR\\n', '\\nHR Policies\\n', '\\nCompensation & Benefits\\n', '\\nBusiness Strategy\\n', '\\nStrategic Human Resource Planning\\n', '\\nSuccession Planning\\n', '\\nVendor Management\\n', '\\nWorkforce Planning\\n', '\\nHRIS\\n', '\\nPersonnel Management\\n', '\\nEmployee Relations\\n', '\\nManagement\\n', '\\nEmployee Engagement\\n', '\\nLeadership\\n', '\\nTeam Management\\n', '\\nConflict Management\\n', '\\nPeople ...   \n",
       "\n",
       "                                                                                                                                                                                                                                                                                                                                                                                                                                                                                                                                                                                                              clean_skills  \n",
       "0  ['Performance Management', 'Human Resources', 'Talent Management', 'Talent Acquisition', 'Recruiting', 'Strategy', 'Change Management', 'Deferred Compensation', 'Strategic HR', 'HR Policies', 'Compensation & Benefits', 'Business Strategy', 'Strategic Human Resource Planning', 'Succession Planning', 'Vendor Management', 'Workforce Planning', 'HRIS', 'Personnel Management', 'Employee Relations', 'Management', 'Employee Engagement', 'Leadership', 'Team Management', 'Conflict Management', 'People Skills', 'Performance Appraisal', 'Organizational Structure', 'Certified career coach', 'Certified...  "
      ]
     },
     "execution_count": null,
     "metadata": {},
     "output_type": "execute_result"
    }
   ],
   "source": [
    "df.head(1)"
   ]
  },
  {
   "cell_type": "code",
   "execution_count": null,
   "id": "090df2c2",
   "metadata": {},
   "outputs": [
    {
     "data": {
      "text/plain": [
       "Index(['index', 'category', 'linkedin', 'profile_picture', 'description',\n",
       "       'Experience', 'Name', 'position', 'location', 'skills', 'clean_skills'],\n",
       "      dtype='object')"
      ]
     },
     "execution_count": null,
     "metadata": {},
     "output_type": "execute_result"
    }
   ],
   "source": [
    "df.columns"
   ]
  },
  {
   "cell_type": "code",
   "execution_count": null,
   "id": "15054c59",
   "metadata": {},
   "outputs": [
    {
     "data": {
      "text/html": [
       "<div>\n",
       "<style scoped>\n",
       "    .dataframe tbody tr th:only-of-type {\n",
       "        vertical-align: middle;\n",
       "    }\n",
       "\n",
       "    .dataframe tbody tr th {\n",
       "        vertical-align: top;\n",
       "    }\n",
       "\n",
       "    .dataframe thead th {\n",
       "        text-align: right;\n",
       "    }\n",
       "</style>\n",
       "<table border=\"1\" class=\"dataframe\">\n",
       "  <thead>\n",
       "    <tr style=\"text-align: right;\">\n",
       "      <th></th>\n",
       "      <th>category</th>\n",
       "      <th>linkedin</th>\n",
       "      <th>profile_picture</th>\n",
       "      <th>description</th>\n",
       "      <th>Experience</th>\n",
       "      <th>Name</th>\n",
       "      <th>position</th>\n",
       "      <th>location</th>\n",
       "      <th>skills</th>\n",
       "      <th>clean_skills</th>\n",
       "    </tr>\n",
       "  </thead>\n",
       "  <tbody>\n",
       "    <tr>\n",
       "      <th>count</th>\n",
       "      <td>1251</td>\n",
       "      <td>1251</td>\n",
       "      <td>1239</td>\n",
       "      <td>670</td>\n",
       "      <td>1226</td>\n",
       "      <td>1239</td>\n",
       "      <td>1239</td>\n",
       "      <td>1239</td>\n",
       "      <td>1251</td>\n",
       "      <td>1251</td>\n",
       "    </tr>\n",
       "    <tr>\n",
       "      <th>unique</th>\n",
       "      <td>25</td>\n",
       "      <td>1224</td>\n",
       "      <td>699</td>\n",
       "      <td>644</td>\n",
       "      <td>1197</td>\n",
       "      <td>1209</td>\n",
       "      <td>1171</td>\n",
       "      <td>368</td>\n",
       "      <td>775</td>\n",
       "      <td>775</td>\n",
       "    </tr>\n",
       "    <tr>\n",
       "      <th>top</th>\n",
       "      <td>Advocate</td>\n",
       "      <td>https://au.linkedin.com/in/ralph-mare-833b2627</td>\n",
       "      <td>data:image/gif;base64,R0lGODlhAQABAIAAAAAAAP///yH5BAEAAAAALAAAAAABAAEAAAIBRAA7</td>\n",
       "      <td>I am well organised Project Manger and goal-oriented, with more than 21 years experience inManagement/Construction filed and a strong quality focus. Analytical problem-solver and able to anticipate issues and</td>\n",
       "      <td>Internal Auditor and accountantCompany NameAlka zanwar &amp; co.Dates EmployedAug 2017 – PresentEmployment Duration2 yrs 8 mosLocationIndiaMaternity leaveCompany NameMedical leaveDates EmployedMay 2015 – Aug 2017Employment Duration2 yrs 4 mosLocationHyderabad, Telangana, IndiaStudentCompany NameEducationDates EmployedDec 2014 – Apr 2015Employment Duration5 mosLocationHyderabad, Telangana, IndiaCA final classes in various institutesTechnical RecruiterCompany NameSoftpath System, LLCDates EmployedNov 2013 – Nov 2014Employment Duration1 yr 1 moLocationHyderabad, Telangana, IndiaBusiness OwnerComp...</td>\n",
       "      <td>zar Design STUDIO</td>\n",
       "      <td>--</td>\n",
       "      <td>Mumbai, Maharashtra, India</td>\n",
       "      <td>[]</td>\n",
       "      <td>['']</td>\n",
       "    </tr>\n",
       "    <tr>\n",
       "      <th>freq</th>\n",
       "      <td>53</td>\n",
       "      <td>2</td>\n",
       "      <td>523</td>\n",
       "      <td>2</td>\n",
       "      <td>2</td>\n",
       "      <td>2</td>\n",
       "      <td>15</td>\n",
       "      <td>110</td>\n",
       "      <td>438</td>\n",
       "      <td>438</td>\n",
       "    </tr>\n",
       "  </tbody>\n",
       "</table>\n",
       "</div>"
      ],
      "text/plain": [
       "        category                                        linkedin  \\\n",
       "count       1251                                            1251   \n",
       "unique        25                                            1224   \n",
       "top     Advocate  https://au.linkedin.com/in/ralph-mare-833b2627   \n",
       "freq          53                                               2   \n",
       "\n",
       "                                                                       profile_picture  \\\n",
       "count                                                                             1239   \n",
       "unique                                                                             699   \n",
       "top     data:image/gif;base64,R0lGODlhAQABAIAAAAAAAP///yH5BAEAAAAALAAAAAABAAEAAAIBRAA7   \n",
       "freq                                                                               523   \n",
       "\n",
       "                                                                                                                                                                                                             description  \\\n",
       "count                                                                                                                                                                                                                670   \n",
       "unique                                                                                                                                                                                                               644   \n",
       "top     I am well organised Project Manger and goal-oriented, with more than 21 years experience inManagement/Construction filed and a strong quality focus. Analytical problem-solver and able to anticipate issues and   \n",
       "freq                                                                                                                                                                                                                   2   \n",
       "\n",
       "                                                                                                                                                                                                                                                                                                                                                                                                                                                                                                                                                                                                                     Experience  \\\n",
       "count                                                                                                                                                                                                                                                                                                                                                                                                                                                                                                                                                                                                                      1226   \n",
       "unique                                                                                                                                                                                                                                                                                                                                                                                                                                                                                                                                                                                                                     1197   \n",
       "top     Internal Auditor and accountantCompany NameAlka zanwar & co.Dates EmployedAug 2017 – PresentEmployment Duration2 yrs 8 mosLocationIndiaMaternity leaveCompany NameMedical leaveDates EmployedMay 2015 – Aug 2017Employment Duration2 yrs 4 mosLocationHyderabad, Telangana, IndiaStudentCompany NameEducationDates EmployedDec 2014 – Apr 2015Employment Duration5 mosLocationHyderabad, Telangana, IndiaCA final classes in various institutesTechnical RecruiterCompany NameSoftpath System, LLCDates EmployedNov 2013 – Nov 2014Employment Duration1 yr 1 moLocationHyderabad, Telangana, IndiaBusiness OwnerComp...   \n",
       "freq                                                                                                                                                                                                                                                                                                                                                                                                                                                                                                                                                                                                                          2   \n",
       "\n",
       "                     Name position                    location skills  \\\n",
       "count                1239     1239                        1239   1251   \n",
       "unique               1209     1171                         368    775   \n",
       "top     zar Design STUDIO       --  Mumbai, Maharashtra, India     []   \n",
       "freq                    2       15                         110    438   \n",
       "\n",
       "       clean_skills  \n",
       "count          1251  \n",
       "unique          775  \n",
       "top            ['']  \n",
       "freq            438  "
      ]
     },
     "execution_count": null,
     "metadata": {},
     "output_type": "execute_result"
    }
   ],
   "source": [
    "df.describe(include='object')"
   ]
  },
  {
   "cell_type": "code",
   "execution_count": null,
   "id": "64d51abc",
   "metadata": {},
   "outputs": [],
   "source": [
    "df.fillna('',inplace=True)\n",
    "df['input'] = 'description: ' + df.description+'; Experience: '+df.Experience+ '; Name: '+ df.Name+'; position: '+df.position+'; location: '+df.location+ '; skills: '+df.skills+ '; clean_skills: '+df.clean_skills"
   ]
  },
  {
   "cell_type": "code",
   "execution_count": null,
   "id": "f631485b",
   "metadata": {},
   "outputs": [
    {
     "data": {
      "text/plain": [
       "0    description: An experienced HR professional,  HR mentor and Coach , Talent advisory and HR strategist... see more; Experience: Senior Vice President & Head of HRCompany NameSamsung Electronics India LimitedDates EmployedJan 2018 – PresentEmployment Duration2 yrs 3 mosLocationGurgaon, Haryana, IndiaVice President Franchise capability building and business transformationCompany NameCoca-Cola India and South West AsiaDates EmployedJan 2017 – Dec 2017Employment Duration12 mosLocationGurgaon, Haryana, IndiaWorked with 17 Franchisees in India and SW asia markets on developing capabilities & tale...\n",
       "1    description: Head Talent Acquisition, HR Leader and Strategic Partner to Business and leadership team in areas of people, processand structure,  worked with some of the best IT Services and Product Organizations.... see more; Experience: Head of Talent Acquisition - India & APAC and HR Leader for Healthcare Business UnitCompany NameAtos SyntelDates EmployedSep 2014 – PresentEmployment Duration5 yrs 7 mosLocationPune Area, IndiaCurrently Heading GRC (Global Recruitment Cell) , Talent Acquisition for India & Philippines. Responsible for Talent Acquisition through Lateral, Campus and Variable...\n",
       "2    description: A Talent Acquisition and HR professional with experience in  Social Media Strategy, Talent Management and Recruitmentin IT, Research & Analytics space. Equipped with the unique combination of strong inter-personnel skills and the abilityto work in diverse, multicultural work environments...\\n            see more; Experience: Company NameIBM INDIA Pvt LtdTotal Duration8 yrs 7 mosTitleHR Talent AcquisitionPartner and HR Immigration SpecialistFull-timeDates EmployedSep 2011 – PresentEmployment Duration8 yrs 7 mosLocationBengaluru, Karnataka, IndiaH-1B Visa Work Permit, Extension,...\n",
       "3                                                                                                                                                                                                                                                                                                                                                   description: ; Experience: HR/Admin/Personnel/LegalCompany NameHR and HR Related PeopleDates EmployedJan 1989 – PresentEmployment Duration31 yrs 3 mosLocationPune Area, India; Name: HR Hopes; position: HR; location: Pune Area, India; skills: []; clean_skills: ['']\n",
       "4    description: Over 18 Years of experience in IT /ITES  / BPO with leading global OrganizationsHave a passion for working on great products, enthusiastic about #UserExperience #SaaS #HRTech #Bots #Io...\\n            see more; Experience: Company NameEXLTotal Duration6 yrs 4 mosTitleVice President - Head of Digital HR Technologies and HR Operations/ shared servicesDates EmployedJul 2018 – PresentEmployment Duration1 yr 9 mosLocationNoida Area, IndiaHave a passion for working on great products, enthusiastic about #UserExperience #SaaS #HRTech #Bots #IoT #Gadgets, #Mobileapps, #ERP... Strong ex...\n",
       "Name: input, dtype: object"
      ]
     },
     "execution_count": null,
     "metadata": {},
     "output_type": "execute_result"
    }
   ],
   "source": [
    "df.input.head()"
   ]
  },
  {
   "cell_type": "code",
   "execution_count": null,
   "id": "ee296617",
   "metadata": {},
   "outputs": [],
   "source": [
    "        \n",
    "df.input = df.input.astype(str)\n",
    "df.input = df.input.str.replace('\\\\n',' ',regex=False)"
   ]
  },
  {
   "cell_type": "markdown",
   "id": "fcc9f50b",
   "metadata": {},
   "source": [
    "#### run the first entry"
   ]
  },
  {
   "cell_type": "code",
   "execution_count": null,
   "id": "8bb6010c",
   "metadata": {},
   "outputs": [],
   "source": [
    "\n",
    "candidate_labels = ['US','India','UK', \"executive\",'analyst','auditor','junior','senior','developer','programmer','asia','south america']\n",
    "candidate_labels = df.category.unique().tolist()\n",
    "candidate_labels.extend(['US','India'])"
   ]
  },
  {
   "cell_type": "code",
   "execution_count": null,
   "id": "be28b597",
   "metadata": {},
   "outputs": [],
   "source": [
    "\n",
    "def analyze_one(df, candidate_labels, index ):\n",
    "    i=index\n",
    "    sequence = df.input[i]\n",
    "    answer = classifier(sequence, candidate_labels)\n",
    "    dfo = pd.DataFrame(answer)\n",
    "    dfo.sort_values('scores',inplace=True)\n",
    "    fig = px.bar(dfo, x=\"scores\", y=\"labels\", orientation='h')\n",
    "    print(dfo.sequence[0])\n",
    "    \n",
    "    print('Actual Category: '+str(df.category[i]))\n",
    "    fig.show()"
   ]
  },
  {
   "cell_type": "code",
   "execution_count": null,
   "id": "676059f6",
   "metadata": {},
   "outputs": [],
   "source": [
    "# analyze_one(df,candidate_labels,index=0)"
   ]
  },
  {
   "cell_type": "code",
   "execution_count": null,
   "id": "f3378cfb",
   "metadata": {},
   "outputs": [],
   "source": [
    "# analyze_one(df,candidate_labels,index=1000)"
   ]
  },
  {
   "cell_type": "code",
   "execution_count": null,
   "id": "1a89c90a",
   "metadata": {},
   "outputs": [],
   "source": [
    "# analyze_one(df,candidate_labels,index=421)"
   ]
  },
  {
   "cell_type": "code",
   "execution_count": null,
   "id": "69e65331",
   "metadata": {},
   "outputs": [],
   "source": [
    "# df.groupby('category').Name.count()"
   ]
  },
  {
   "cell_type": "code",
   "execution_count": null,
   "id": "2cc1f106",
   "metadata": {},
   "outputs": [],
   "source": [
    "# df.loc[df.category=='Agricultural'].description"
   ]
  },
  {
   "cell_type": "markdown",
   "id": "0f0c9771",
   "metadata": {},
   "source": [
    "try questions:"
   ]
  },
  {
   "cell_type": "code",
   "execution_count": null,
   "id": "538e537d",
   "metadata": {},
   "outputs": [],
   "source": [
    "idx = 4"
   ]
  },
  {
   "cell_type": "code",
   "execution_count": null,
   "id": "17939401",
   "metadata": {},
   "outputs": [
    {
     "data": {
      "text/plain": [
       "\"description: Over 18 Years of experience in IT /ITES  / BPO with leading global OrganizationsHave a passion for working on great products, enthusiastic about #UserExperience #SaaS #HRTech #Bots #Io...\\n            see more; Experience: Company NameEXLTotal Duration6 yrs 4 mosTitleVice President - Head of Digital HR Technologies and HR Operations/ shared servicesDates EmployedJul 2018 – PresentEmployment Duration1 yr 9 mosLocationNoida Area, IndiaHave a passion for working on great products, enthusiastic about #UserExperience #SaaS #HRTech #Bots #IoT #Gadgets, #Mobileapps, #ERP... Strong experience in managing Transformative Business HR IT initiatives in a Global Shared Service environmentTitleSenior Assistant Vice President - Human ResourcesDates EmployedDec 2013 – Jun 2018Employment Duration4 yrs 7 mosTitleVice President - Head of Digital HR Technologies and HR Operations/ shared servicesDates EmployedJul 2018 – PresentEmployment Duration1 yr 9 mosLocationNoida Area, IndiaHave a passion for working on great products, enthusiastic about #UserExperience #SaaS #HRTech #Bots #IoT #Gadgets, #Mobileapps, #ERP... Strong experience in managing Transformative Business HR IT initiatives in a Global Shared Service environmentT; Name: Rakesh Kumar; position: Vice President - Digital HR Transformation Lead, Global HR Operations / Shared Services and HR Technologies; location: Central Delhi, Delhi, India; skills: [' Team Management ', ' Human Resources ', ' Employee Engagement ', ' Talent Acquisition ', ' Deferred Compensation ', ' ERP ', ' SDLC ', ' HR Consulting ', ' Change Management ', ' Strategic HR ', ' Business Process Improvement ', ' MIS ', ' HRIS ', ' PeopleSoft ', ' Cognos ', ' Ma\""
      ]
     },
     "execution_count": null,
     "metadata": {},
     "output_type": "execute_result"
    }
   ],
   "source": [
    "text = df.input[idx][:(int(.75 *len(df.input[idx])))]\n",
    "text"
   ]
  },
  {
   "cell_type": "code",
   "execution_count": null,
   "id": "2664d4b9",
   "metadata": {},
   "outputs": [],
   "source": [
    "# tokenizer = AutoTokenizer.from_pretrained(\"bert-large-uncased-whole-word-masking-finetuned-squad\")\n",
    "# model = AutoModelForQuestionAnswering.from_pretrained(\"bert-large-uncased-whole-word-masking-finetuned-squad\")\n",
    "\n",
    "# text = text\n",
    "\n",
    "# questions = [\"What is the persons name?\" ,\"What companies has this person worked with?\",\"Do they work in HR?\"\n",
    "# ]\n",
    "\n",
    "# for question in questions:\n",
    "#     inputs = tokenizer(question, text, add_special_tokens=True, return_tensors=\"pt\")\n",
    "#     input_ids = inputs[\"input_ids\"].tolist()[0]\n",
    "\n",
    "#     outputs = model(**inputs)\n",
    "#     answer_start_scores = outputs.start_logits\n",
    "#     answer_end_scores = outputs.end_logits\n",
    "\n",
    "#     # Get the most likely beginning of answer with the argmax of the score\n",
    "#     answer_start = torch.argmax(answer_start_scores)\n",
    "#     # Get the most likely end of answer with the argmax of the score\n",
    "#     answer_end = torch.argmax(answer_end_scores) + 1\n",
    "\n",
    "#     answer = tokenizer.convert_tokens_to_string(\n",
    "#         tokenizer.convert_ids_to_tokens(input_ids[answer_start:answer_end])\n",
    "#     )\n",
    "\n",
    "#     print(f\"Question: {question}\")\n",
    "#     print(f\"Answer: {answer}\")"
   ]
  },
  {
   "cell_type": "code",
   "execution_count": null,
   "id": "e2b68587",
   "metadata": {},
   "outputs": [
    {
     "name": "stdout",
     "output_type": "stream",
     "text": [
      "Question: How many pretrained models are available in 🤗 Transformers?\n",
      "Answer: over 32 +\n",
      "Question: What does 🤗 Transformers provide?\n",
      "Answer: general - purpose architectures\n",
      "Question: 🤗 Transformers provides interoperability between which frameworks?\n",
      "Answer: tensorflow 2. 0 and pytorch\n"
     ]
    }
   ],
   "source": [
    "\n",
    "tokenizer = AutoTokenizer.from_pretrained(\"bert-large-uncased-whole-word-masking-finetuned-squad\")\n",
    "model = AutoModelForQuestionAnswering.from_pretrained(\"bert-large-uncased-whole-word-masking-finetuned-squad\")\n",
    "\n",
    "text = r\"\"\"\n",
    "🤗 Transformers (formerly known as pytorch-transformers and pytorch-pretrained-bert) provides general-purpose\n",
    "architectures (BERT, GPT-2, RoBERTa, XLM, DistilBert, XLNet…) for Natural Language Understanding (NLU) and Natural\n",
    "Language Generation (NLG) with over 32+ pretrained models in 100+ languages and deep interoperability between\n",
    "TensorFlow 2.0 and PyTorch.\n",
    "\"\"\"\n",
    "\n",
    "questions = [\n",
    "    \"How many pretrained models are available in 🤗 Transformers?\",\n",
    "    \"What does 🤗 Transformers provide?\",\n",
    "    \"🤗 Transformers provides interoperability between which frameworks?\",\n",
    "]\n",
    "\n",
    "for question in questions:\n",
    "    inputs = tokenizer(question, text, add_special_tokens=True, return_tensors=\"pt\")\n",
    "    input_ids = inputs[\"input_ids\"].tolist()[0]\n",
    "\n",
    "    outputs = model(**inputs)\n",
    "    answer_start_scores = outputs.start_logits\n",
    "    answer_end_scores = outputs.end_logits\n",
    "\n",
    "    # Get the most likely beginning of answer with the argmax of the score\n",
    "    answer_start = torch.argmax(answer_start_scores)\n",
    "    # Get the most likely end of answer with the argmax of the score\n",
    "    answer_end = torch.argmax(answer_end_scores) + 1\n",
    "\n",
    "    answer = tokenizer.convert_tokens_to_string(\n",
    "        tokenizer.convert_ids_to_tokens(input_ids[answer_start:answer_end])\n",
    "    )\n",
    "\n",
    "    print(f\"Question: {question}\")\n",
    "    print(f\"Answer: {answer}\")"
   ]
  },
  {
   "cell_type": "code",
   "execution_count": null,
   "id": "de02dab1",
   "metadata": {},
   "outputs": [],
   "source": []
  }
 ],
 "metadata": {
  "kernelspec": {
   "display_name": "Python 3 (ipykernel)",
   "language": "python",
   "name": "python3"
  }
 },
 "nbformat": 4,
 "nbformat_minor": 5
}
